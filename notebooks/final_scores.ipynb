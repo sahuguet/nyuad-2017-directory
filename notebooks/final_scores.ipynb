{
 "cells": [
  {
   "cell_type": "markdown",
   "metadata": {},
   "source": [
    "# Notebook to compute the final scores for the teams."
   ]
  },
  {
   "cell_type": "code",
   "execution_count": 16,
   "metadata": {
    "collapsed": true
   },
   "outputs": [],
   "source": [
    "import csv\n",
    "\n",
    "# Put CSV for Judge survey.\n",
    "JUDGES_SCORE_FILE   = '/Users/sahuguet/Downloads/NYU+AD+2017+Scoreboard+-+Judges_April+15%2C+2017_23.34.csv'\n",
    "\n",
    "# Put CSV for Audience survey\n",
    "AUDIENCE_SCORE_FILE = JUDGES_SCORE_FILE"
   ]
  },
  {
   "cell_type": "code",
   "execution_count": 17,
   "metadata": {
    "collapsed": true
   },
   "outputs": [],
   "source": [
    "# Provide the names of the teams here. ORDERING MATTERS.\n",
    "TEAMS = [ 'Musaeda', 'Gamification', 'An Nahr', 'Healthify', 'BitDonate',\n",
    "         'Korrect Me Kuik', 'Mental Health ML',\n",
    "         'Public Health Surveillance', 'Connecting With Teachers',\n",
    "         'Hi@', 'RoboFriend', 'Connect' ]\n",
    "\n",
    "# TEAMS = [ '1', '2']\n",
    "# ORDERING MATTERS; IT MUST MATCH THE ONE ON THE FORM.\n",
    "DIMENSIONS = {'Impact': .2,\n",
    "              'Quality of Product': .35,\n",
    "              'Sustainability': .05,\n",
    "              'Team': .05,\n",
    "              'Presentation': .10 ,\n",
    "              'UI': .10 ,\n",
    "              'Innovation': .15 } \n",
    "assert(sum(DIMENSIONS.values())== 1.0) # Checking that this adds up to 100%.\n",
    "\n",
    "PADDING_FIELDS = 16 # extra info from the Qualtrics form.\n",
    "\n",
    "\n",
    "_X_ = '__OVERALL__'"
   ]
  },
  {
   "cell_type": "code",
   "execution_count": 18,
   "metadata": {
    "collapsed": true
   },
   "outputs": [],
   "source": [
    "def compute_score(score_file):\n",
    "    team_scores = {}\n",
    "    for team in TEAMS:\n",
    "        team_scores[team] = {}\n",
    "        for dim in DIMENSIONS.keys():\n",
    "            team_scores[team][dim] = 0\n",
    "            team_scores[team][_X_] = 0\n",
    "    with open(score_file, 'r') as csvfile:\n",
    "        reader = csv.reader(csvfile)\n",
    "        next(reader) # skipping header\n",
    "        next(reader) # skipping header\n",
    "        next(reader) # skipping header\n",
    "        vote_count = 0\n",
    "        for row in reader:\n",
    "            assert(len(row) == len(TEAMS) * len(DIMENSIONS) + PADDING_FIELDS)\n",
    "            for team_index, team in enumerate(TEAMS):\n",
    "                for dim_index, dim in enumerate(DIMENSIONS.keys()):\n",
    "                    index = PADDING_FIELDS-1 + team_index * len(DIMENSIONS) + dim_index + 1\n",
    "                    # print(\"%d %s %s\" % (index, dim, row[index]))\n",
    "                    score_as_str = row[index]\n",
    "                    if score_as_str == '':\n",
    "                        score_as_str = 0\n",
    "                    score = int(score_as_str)\n",
    "                    team_scores[team][dim] += score\n",
    "                    team_scores[team][_X_] += score * DIMENSIONS[dim] # weighted scores.\n",
    "            vote_count += 1\n",
    "\n",
    "        # We now normalize based on number of votes.\n",
    "        for team, scores in team_scores.items():\n",
    "            for dim in scores:\n",
    "                team_scores[team][dim] = team_scores[team][dim] / vote_count\n",
    "\n",
    "    return (team_scores, vote_count)\n",
    "                "
   ]
  },
  {
   "cell_type": "markdown",
   "metadata": {},
   "source": [
    "# Judge Scores"
   ]
  },
  {
   "cell_type": "code",
   "execution_count": 19,
   "metadata": {
    "scrolled": false
   },
   "outputs": [
    {
     "name": "stdout",
     "output_type": "stream",
     "text": [
      "25 vote(s) counted.\n"
     ]
    },
    {
     "data": {
      "text/plain": [
       "[('Connect',\n",
       "  {'Impact': 3.04,\n",
       "   'Innovation': 2.08,\n",
       "   'Presentation': 3.4,\n",
       "   'Quality of Product': 2.68,\n",
       "   'Sustainability': 1.88,\n",
       "   'Team': 2.8,\n",
       "   'UI': 2.92,\n",
       "   '__OVERALL__': 2.723999999999998}),\n",
       " ('Public Health Surveillance',\n",
       "  {'Impact': 2.76,\n",
       "   'Innovation': 2.44,\n",
       "   'Presentation': 2.44,\n",
       "   'Quality of Product': 3.04,\n",
       "   'Sustainability': 2.52,\n",
       "   'Team': 2.76,\n",
       "   'UI': 2.12,\n",
       "   '__OVERALL__': 2.702}),\n",
       " ('Musaeda',\n",
       "  {'Impact': 2.56,\n",
       "   'Innovation': 2.4,\n",
       "   'Presentation': 2.64,\n",
       "   'Quality of Product': 2.56,\n",
       "   'Sustainability': 2.56,\n",
       "   'Team': 2.68,\n",
       "   'UI': 2.92,\n",
       "   '__OVERALL__': 2.585999999999999})]"
      ]
     },
     "execution_count": 19,
     "metadata": {},
     "output_type": "execute_result"
    }
   ],
   "source": [
    "(team_scores, vote_count) = compute_score(JUDGES_SCORE_FILE)\n",
    "print (\"%d vote(s) counted.\" % vote_count)\n",
    "sorted(team_scores.items(), key=lambda x:x[1][_X_], reverse=True)[0:3]    "
   ]
  },
  {
   "cell_type": "markdown",
   "metadata": {},
   "source": [
    "# Audience Score"
   ]
  },
  {
   "cell_type": "code",
   "execution_count": 20,
   "metadata": {},
   "outputs": [
    {
     "name": "stdout",
     "output_type": "stream",
     "text": [
      "25 vote(s) counted.\n"
     ]
    },
    {
     "data": {
      "text/plain": [
       "[('Connect',\n",
       "  {'Impact': 3.04,\n",
       "   'Innovation': 2.08,\n",
       "   'Presentation': 3.4,\n",
       "   'Quality of Product': 2.68,\n",
       "   'Sustainability': 1.88,\n",
       "   'Team': 2.8,\n",
       "   'UI': 2.92,\n",
       "   '__OVERALL__': 2.723999999999998}),\n",
       " ('Public Health Surveillance',\n",
       "  {'Impact': 2.76,\n",
       "   'Innovation': 2.44,\n",
       "   'Presentation': 2.44,\n",
       "   'Quality of Product': 3.04,\n",
       "   'Sustainability': 2.52,\n",
       "   'Team': 2.76,\n",
       "   'UI': 2.12,\n",
       "   '__OVERALL__': 2.702}),\n",
       " ('Musaeda',\n",
       "  {'Impact': 2.56,\n",
       "   'Innovation': 2.4,\n",
       "   'Presentation': 2.64,\n",
       "   'Quality of Product': 2.56,\n",
       "   'Sustainability': 2.56,\n",
       "   'Team': 2.68,\n",
       "   'UI': 2.92,\n",
       "   '__OVERALL__': 2.585999999999999})]"
      ]
     },
     "execution_count": 20,
     "metadata": {},
     "output_type": "execute_result"
    }
   ],
   "source": [
    "(team_scores, vote_count) = compute_score(AUDIENCE_SCORE_FILE)\n",
    "print (\"%d vote(s) counted.\" % vote_count)\n",
    "sorted(team_scores.items(), key=lambda x:x[1][_X_], reverse=True)[0:3]  "
   ]
  }
 ],
 "metadata": {
  "kernelspec": {
   "display_name": "Python 3",
   "language": "python",
   "name": "python3"
  },
  "language_info": {
   "codemirror_mode": {
    "name": "ipython",
    "version": 3
   },
   "file_extension": ".py",
   "mimetype": "text/x-python",
   "name": "python",
   "nbconvert_exporter": "python",
   "pygments_lexer": "ipython3",
   "version": "3.6.0"
  }
 },
 "nbformat": 4,
 "nbformat_minor": 2
}
