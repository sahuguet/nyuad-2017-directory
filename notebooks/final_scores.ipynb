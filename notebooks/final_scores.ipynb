{
 "cells": [
  {
   "cell_type": "markdown",
   "metadata": {},
   "source": [
    "# Notebook to compute the final scores for the teams."
   ]
  },
  {
   "cell_type": "code",
   "execution_count": 212,
   "metadata": {
    "collapsed": true
   },
   "outputs": [],
   "source": [
    "import csv\n",
    "JUDGES_SCORE_FILE   = '/Users/sahuguet/Downloads/Judging+Scoreboard_April+7%2C+2017_16.51.csv'\n",
    "AUDIENCE_SCORE_FILE = '/Users/sahuguet/Downloads/Judging+Scoreboard_April+7%2C+2017_17.33.csv'"
   ]
  },
  {
   "cell_type": "code",
   "execution_count": 213,
   "metadata": {},
   "outputs": [],
   "source": [
    "# Provide the names of the teams here.\n",
    "TEAMS = [ 'Team1', 'Team2', 'Team3' ]\n",
    "\n",
    "# ORDERING MATTERS; IT MUST MATCH THE ONE ON THE FORM.\n",
    "DIMENSIONS = {'Impact': .2,\n",
    "              'Quality of Product': .35,\n",
    "              'Sustainability': .05,\n",
    "              'Team': .05,\n",
    "              'Presentation': .10 ,\n",
    "              'UI': .10 ,\n",
    "              'Innovation': .15 } \n",
    "assert(sum(DIMENSIONS.values())== 1.0) # Checking that this adds up to 100%.\n",
    "\n",
    "PADDING_FIELDS = 16 # extra info from the Qualtrics form.\n",
    "\n",
    "_X_ = '__OVERALL__'"
   ]
  },
  {
   "cell_type": "code",
   "execution_count": 214,
   "metadata": {},
   "outputs": [],
   "source": [
    "def compute_score(score_file):\n",
    "    team_scores = {}\n",
    "    for team in TEAMS:\n",
    "        team_scores[team] = {}\n",
    "        for dim in DIMENSIONS.keys():\n",
    "            team_scores[team][dim] = 0\n",
    "            team_scores[team][_X_] = 0\n",
    "    with open(score_file, 'r') as csvfile:\n",
    "        reader = csv.reader(csvfile)\n",
    "        next(reader) # skipping header\n",
    "        next(reader) # skipping header\n",
    "        next(reader) # skipping header\n",
    "        vote_count = 0\n",
    "        for row in reader:\n",
    "            assert(len(row) == len(TEAMS) * len(DIMENSIONS) + PADDING_FIELDS)\n",
    "            for team_index, team in enumerate(TEAMS):\n",
    "                for dim_index, dim in enumerate(DIMENSIONS.keys()):\n",
    "                    index = PADDING_FIELDS-1 + (team_index+1) * (dim_index+1)\n",
    "                    score = int(row[index])\n",
    "                    team_scores[team][dim] += score\n",
    "                    team_scores[team][_X_] += score * DIMENSIONS[dim] # weighted scores.\n",
    "            vote_count += 1\n",
    "\n",
    "        # We now normalize based on number of votes.\n",
    "        for team, scores in team_scores.items():\n",
    "            for dim in scores:\n",
    "                team_scores[team][dim] = team_scores[team][dim] / vote_count\n",
    "\n",
    "    return (team_scores, vote_count)\n",
    "                "
   ]
  },
  {
   "cell_type": "markdown",
   "metadata": {},
   "source": [
    "# Judge Scores"
   ]
  },
  {
   "cell_type": "code",
   "execution_count": 215,
   "metadata": {
    "scrolled": true
   },
   "outputs": [
    {
     "data": {
      "text/plain": [
       "[('Team2',\n",
       "  {'Impact': 2.3555555555555556,\n",
       "   'Innovation': 2.7111111111111112,\n",
       "   'Presentation': 2.6222222222222222,\n",
       "   'Quality of Product': 3.022222222222222,\n",
       "   'Sustainability': 2.3777777777777778,\n",
       "   'Team': 2.577777777777778,\n",
       "   'UI': 2.3333333333333335,\n",
       "   '__OVERALL__': 2.67888888888889}),\n",
       " ('Team1',\n",
       "  {'Impact': 2.688888888888889,\n",
       "   'Innovation': 2.3555555555555556,\n",
       "   'Presentation': 2.7111111111111112,\n",
       "   'Quality of Product': 2.3555555555555556,\n",
       "   'Sustainability': 2.6,\n",
       "   'Team': 3.022222222222222,\n",
       "   'UI': 2.3777777777777778,\n",
       "   '__OVERALL__': 2.505555555555558}),\n",
       " ('Team3',\n",
       "  {'Impact': 2.6,\n",
       "   'Innovation': 2.8666666666666667,\n",
       "   'Presentation': 2.3333333333333335,\n",
       "   'Quality of Product': 2.3777777777777778,\n",
       "   'Sustainability': 2.4,\n",
       "   'Team': 2.3333333333333335,\n",
       "   'UI': 2.2888888888888888,\n",
       "   '__OVERALL__': 2.48111111111111})]"
      ]
     },
     "execution_count": 215,
     "metadata": {},
     "output_type": "execute_result"
    }
   ],
   "source": [
    "(team_scores, vote_count) = compute_score(JUDGES_SCORE_FILE)\n",
    "sorted(team_scores.items(), key=lambda x:x[1][_X_], reverse=True)[0:3]    "
   ]
  },
  {
   "cell_type": "markdown",
   "metadata": {},
   "source": [
    "# Audience Score"
   ]
  },
  {
   "cell_type": "code",
   "execution_count": 216,
   "metadata": {},
   "outputs": [
    {
     "data": {
      "text/plain": [
       "[('Team3',\n",
       "  {'Impact': 2.544,\n",
       "   'Innovation': 2.66,\n",
       "   'Presentation': 2.528,\n",
       "   'Quality of Product': 2.6,\n",
       "   'Sustainability': 2.464,\n",
       "   'Team': 2.344,\n",
       "   'UI': 2.492,\n",
       "   '__OVERALL__': 2.560200000000001}),\n",
       " ('Team1',\n",
       "  {'Impact': 2.48,\n",
       "   'Innovation': 2.532,\n",
       "   'Presentation': 2.332,\n",
       "   'Quality of Product': 2.644,\n",
       "   'Sustainability': 2.544,\n",
       "   'Team': 2.484,\n",
       "   'UI': 2.6,\n",
       "   '__OVERALL__': 2.545800000000008}),\n",
       " ('Team2',\n",
       "  {'Impact': 2.644,\n",
       "   'Innovation': 2.592,\n",
       "   'Presentation': 2.668,\n",
       "   'Quality of Product': 2.484,\n",
       "   'Sustainability': 2.6,\n",
       "   'Team': 2.42,\n",
       "   'UI': 2.344,\n",
       "   '__OVERALL__': 2.539199999999999})]"
      ]
     },
     "execution_count": 216,
     "metadata": {},
     "output_type": "execute_result"
    }
   ],
   "source": [
    "(team_scores, vote_count) = compute_score(AUDIENCE_SCORE_FILE)\n",
    "sorted(team_scores.items(), key=lambda x:x[1][_X_], reverse=True)[0:3]  "
   ]
  }
 ],
 "metadata": {
  "kernelspec": {
   "display_name": "Python 3",
   "language": "python",
   "name": "python3"
  },
  "language_info": {
   "codemirror_mode": {
    "name": "ipython",
    "version": 3
   },
   "file_extension": ".py",
   "mimetype": "text/x-python",
   "name": "python",
   "nbconvert_exporter": "python",
   "pygments_lexer": "ipython3",
   "version": "3.6.0"
  }
 },
 "nbformat": 4,
 "nbformat_minor": 2
}
